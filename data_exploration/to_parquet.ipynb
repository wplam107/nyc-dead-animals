{
 "cells": [
  {
   "cell_type": "code",
   "execution_count": 1,
   "metadata": {},
   "outputs": [],
   "source": [
    "import pandas as pd\n",
    "from sodapy import Socrata\n",
    "from configparser import ConfigParser"
   ]
  },
  {
   "cell_type": "code",
   "execution_count": 2,
   "metadata": {},
   "outputs": [],
   "source": [
    "# Setup configuration\n",
    "config = ConfigParser()\n",
    "config.read('./config.ini')\n",
    "app_token = config['socrata']['APP_TOKEN']\n",
    "\n",
    "# Create client to Socrata\n",
    "client = Socrata(domain='data.cityofnewyork.us', app_token=app_token, timeout=60)\n",
    "\n",
    "# NYC 311 Calls (2010-Present)\n",
    "dataset = 'erm2-nwe9'"
   ]
  },
  {
   "cell_type": "code",
   "execution_count": 3,
   "metadata": {},
   "outputs": [],
   "source": [
    "def get_query(dataset_identifier: str, query: str, return_df: bool=False) -> pd.DataFrame | list:\n",
    "    results = client.get(dataset_identifier=dataset_identifier, query=query)\n",
    "    if return_df:\n",
    "        return pd.DataFrame.from_records(results)\n",
    "    else:\n",
    "        return results"
   ]
  },
  {
   "cell_type": "code",
   "execution_count": 10,
   "metadata": {},
   "outputs": [],
   "source": [
    "query = (\n",
    "    \"\"\"\n",
    "    SELECT\n",
    "        unique_key,\n",
    "        created_date,\n",
    "        descriptor,\n",
    "        incident_zip,\n",
    "        community_board,\n",
    "        latitude,\n",
    "        longitude\n",
    "    WHERE\n",
    "        complaint_type = \"Dead Animal\"\n",
    "        AND incident_zip IS NOT NULL\n",
    "        AND community_board IS NOT NULL\n",
    "        AND latitude IS NOT NULL\n",
    "        AND longitude IS NOT NULL\n",
    "    ORDER BY\n",
    "        created_date DESC,\n",
    "        unique_key DESC\n",
    "    LIMIT\n",
    "        20000\n",
    "    \"\"\"\n",
    ")\n",
    "df = get_query(dataset_identifier=dataset, query=query, return_df=True)"
   ]
  },
  {
   "cell_type": "code",
   "execution_count": 11,
   "metadata": {},
   "outputs": [
    {
     "data": {
      "text/html": [
       "<div>\n",
       "<style scoped>\n",
       "    .dataframe tbody tr th:only-of-type {\n",
       "        vertical-align: middle;\n",
       "    }\n",
       "\n",
       "    .dataframe tbody tr th {\n",
       "        vertical-align: top;\n",
       "    }\n",
       "\n",
       "    .dataframe thead th {\n",
       "        text-align: right;\n",
       "    }\n",
       "</style>\n",
       "<table border=\"1\" class=\"dataframe\">\n",
       "  <thead>\n",
       "    <tr style=\"text-align: right;\">\n",
       "      <th></th>\n",
       "      <th>unique_key</th>\n",
       "      <th>created_date</th>\n",
       "      <th>descriptor</th>\n",
       "      <th>incident_zip</th>\n",
       "      <th>community_board</th>\n",
       "      <th>latitude</th>\n",
       "      <th>longitude</th>\n",
       "    </tr>\n",
       "  </thead>\n",
       "  <tbody>\n",
       "    <tr>\n",
       "      <th>0</th>\n",
       "      <td>56525294</td>\n",
       "      <td>2023-01-15T00:07:57.000</td>\n",
       "      <td>Cat</td>\n",
       "      <td>11223</td>\n",
       "      <td>15 BROOKLYN</td>\n",
       "      <td>40.60753845957142</td>\n",
       "      <td>-73.96466250125461</td>\n",
       "    </tr>\n",
       "    <tr>\n",
       "      <th>1</th>\n",
       "      <td>56525565</td>\n",
       "      <td>2023-01-14T20:32:14.000</td>\n",
       "      <td>Squirrel</td>\n",
       "      <td>11417</td>\n",
       "      <td>10 QUEENS</td>\n",
       "      <td>40.670453869268044</td>\n",
       "      <td>-73.84068337208743</td>\n",
       "    </tr>\n",
       "    <tr>\n",
       "      <th>2</th>\n",
       "      <td>56530227</td>\n",
       "      <td>2023-01-14T18:22:23.000</td>\n",
       "      <td>Squirrel</td>\n",
       "      <td>10306</td>\n",
       "      <td>02 STATEN ISLAND</td>\n",
       "      <td>40.570374819761746</td>\n",
       "      <td>-74.11126273634564</td>\n",
       "    </tr>\n",
       "  </tbody>\n",
       "</table>\n",
       "</div>"
      ],
      "text/plain": [
       "  unique_key             created_date descriptor incident_zip  \\\n",
       "0   56525294  2023-01-15T00:07:57.000        Cat        11223   \n",
       "1   56525565  2023-01-14T20:32:14.000   Squirrel        11417   \n",
       "2   56530227  2023-01-14T18:22:23.000   Squirrel        10306   \n",
       "\n",
       "    community_board            latitude           longitude  \n",
       "0       15 BROOKLYN   40.60753845957142  -73.96466250125461  \n",
       "1         10 QUEENS  40.670453869268044  -73.84068337208743  \n",
       "2  02 STATEN ISLAND  40.570374819761746  -74.11126273634564  "
      ]
     },
     "execution_count": 11,
     "metadata": {},
     "output_type": "execute_result"
    }
   ],
   "source": [
    "df.head(3)"
   ]
  },
  {
   "cell_type": "code",
   "execution_count": 12,
   "metadata": {},
   "outputs": [
    {
     "name": "stdout",
     "output_type": "stream",
     "text": [
      "<class 'pandas.core.frame.DataFrame'>\n",
      "RangeIndex: 12075 entries, 0 to 12074\n",
      "Data columns (total 7 columns):\n",
      " #   Column           Non-Null Count  Dtype \n",
      "---  ------           --------------  ----- \n",
      " 0   unique_key       12075 non-null  object\n",
      " 1   created_date     12075 non-null  object\n",
      " 2   descriptor       12075 non-null  object\n",
      " 3   incident_zip     12075 non-null  object\n",
      " 4   community_board  12075 non-null  object\n",
      " 5   latitude         12075 non-null  object\n",
      " 6   longitude        12075 non-null  object\n",
      "dtypes: object(7)\n",
      "memory usage: 660.5+ KB\n"
     ]
    }
   ],
   "source": [
    "df.info()"
   ]
  },
  {
   "cell_type": "code",
   "execution_count": 13,
   "metadata": {},
   "outputs": [],
   "source": [
    "# Convert created date to datetime object\n",
    "df['created_date'] = pd.to_datetime(df['created_date'])\n",
    "\n",
    "# Convert latitude and longitude to double\n",
    "df['latitude'] = pd.to_numeric(df['latitude'])\n",
    "df['longitude'] = pd.to_numeric(df['longitude'])"
   ]
  },
  {
   "cell_type": "code",
   "execution_count": 14,
   "metadata": {},
   "outputs": [
    {
     "name": "stdout",
     "output_type": "stream",
     "text": [
      "<class 'pandas.core.frame.DataFrame'>\n",
      "RangeIndex: 12075 entries, 0 to 12074\n",
      "Data columns (total 7 columns):\n",
      " #   Column           Non-Null Count  Dtype         \n",
      "---  ------           --------------  -----         \n",
      " 0   unique_key       12075 non-null  object        \n",
      " 1   created_date     12075 non-null  datetime64[ns]\n",
      " 2   descriptor       12075 non-null  object        \n",
      " 3   incident_zip     12075 non-null  object        \n",
      " 4   community_board  12075 non-null  object        \n",
      " 5   latitude         12075 non-null  float64       \n",
      " 6   longitude        12075 non-null  float64       \n",
      "dtypes: datetime64[ns](1), float64(2), object(4)\n",
      "memory usage: 660.5+ KB\n"
     ]
    }
   ],
   "source": [
    "df.info()"
   ]
  },
  {
   "cell_type": "code",
   "execution_count": 15,
   "metadata": {},
   "outputs": [],
   "source": [
    "filename = './test.parquet'"
   ]
  },
  {
   "cell_type": "code",
   "execution_count": 17,
   "metadata": {},
   "outputs": [],
   "source": [
    "df.to_parquet(filename)"
   ]
  },
  {
   "cell_type": "code",
   "execution_count": 18,
   "metadata": {},
   "outputs": [],
   "source": [
    "from pyspark.sql import SparkSession"
   ]
  },
  {
   "cell_type": "code",
   "execution_count": 19,
   "metadata": {},
   "outputs": [
    {
     "name": "stderr",
     "output_type": "stream",
     "text": [
      "Setting default log level to \"WARN\".\n",
      "To adjust logging level use sc.setLogLevel(newLevel). For SparkR, use setLogLevel(newLevel).\n"
     ]
    },
    {
     "name": "stdout",
     "output_type": "stream",
     "text": [
      "23/01/16 20:44:08 WARN NativeCodeLoader: Unable to load native-hadoop library for your platform... using builtin-java classes where applicable\n"
     ]
    }
   ],
   "source": [
    "spark = SparkSession.builder.getOrCreate()"
   ]
  },
  {
   "cell_type": "code",
   "execution_count": 20,
   "metadata": {},
   "outputs": [
    {
     "name": "stderr",
     "output_type": "stream",
     "text": [
      "                                                                                \r"
     ]
    }
   ],
   "source": [
    "new_df = spark.read.parquet(filename)"
   ]
  },
  {
   "cell_type": "code",
   "execution_count": 22,
   "metadata": {},
   "outputs": [
    {
     "name": "stdout",
     "output_type": "stream",
     "text": [
      "root\n",
      " |-- unique_key: string (nullable = true)\n",
      " |-- created_date: timestamp (nullable = true)\n",
      " |-- descriptor: string (nullable = true)\n",
      " |-- incident_zip: string (nullable = true)\n",
      " |-- community_board: string (nullable = true)\n",
      " |-- latitude: double (nullable = true)\n",
      " |-- longitude: double (nullable = true)\n",
      "\n",
      "+----------+------------+----------+------------+---------------+----------+----------+\n",
      "|unique_key|created_date|descriptor|incident_zip|community_board|  latitude| longitude|\n",
      "+----------+------------+----------+------------+---------------+----------+----------+\n",
      "|  56525294|  2023-01...|       Cat|       11223|     15 BROO...|40.6075...|-73.964...|\n",
      "|  56525565|  2023-01...|  Squirrel|       11417|      10 QUEENS|40.6704...|-73.840...|\n",
      "|  56530227|  2023-01...|  Squirrel|       10306|     02 STAT...|40.5703...|-74.111...|\n",
      "|  56527404|  2023-01...|       Cat|       11420|      10 QUEENS|40.6790...|-73.809...|\n",
      "|  56526670|  2023-01...|       Cat|       10310|     01 STAT...|40.6297...|-74.117...|\n",
      "+----------+------------+----------+------------+---------------+----------+----------+\n",
      "only showing top 5 rows\n",
      "\n"
     ]
    }
   ],
   "source": [
    "new_df.printSchema()\n",
    "new_df.show(n=5, truncate=10)"
   ]
  },
  {
   "cell_type": "code",
   "execution_count": null,
   "metadata": {},
   "outputs": [],
   "source": []
  }
 ],
 "metadata": {
  "kernelspec": {
   "display_name": "nyc-dead-animals-venv",
   "language": "python",
   "name": "python3"
  },
  "language_info": {
   "codemirror_mode": {
    "name": "ipython",
    "version": 3
   },
   "file_extension": ".py",
   "mimetype": "text/x-python",
   "name": "python",
   "nbconvert_exporter": "python",
   "pygments_lexer": "ipython3",
   "version": "3.10.3"
  },
  "orig_nbformat": 4,
  "vscode": {
   "interpreter": {
    "hash": "968ea6b251939883041292aac5078d5ba2e22bb7b6d32507e861435bf335133b"
   }
  }
 },
 "nbformat": 4,
 "nbformat_minor": 2
}
