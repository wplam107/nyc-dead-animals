{
 "cells": [
  {
   "cell_type": "code",
   "execution_count": 1,
   "metadata": {},
   "outputs": [],
   "source": [
    "import pandas as pd\n",
    "from configparser import ConfigParser\n",
    "from sodapy import Socrata"
   ]
  },
  {
   "cell_type": "code",
   "execution_count": 2,
   "metadata": {},
   "outputs": [],
   "source": [
    "# Setup configuration\n",
    "config = ConfigParser()\n",
    "config.read('./config.ini')\n",
    "app_token = config['socrata']['APP_TOKEN']\n",
    "\n",
    "# Create client to Socrata\n",
    "client = Socrata(domain='data.cityofnewyork.us', app_token=app_token, timeout=60)\n",
    "\n",
    "# NYC 311 Calls (2010-Present)\n",
    "dataset = 'erm2-nwe9'"
   ]
  },
  {
   "cell_type": "code",
   "execution_count": 3,
   "metadata": {},
   "outputs": [],
   "source": [
    "def get_query(dataset_identifier: str, query: str, return_df: bool=False) -> pd.DataFrame | list:\n",
    "    results = client.get(dataset_identifier=dataset_identifier, query=query)\n",
    "    if return_df:\n",
    "        return pd.DataFrame.from_records(results)\n",
    "    else:\n",
    "        return results"
   ]
  },
  {
   "cell_type": "code",
   "execution_count": 4,
   "metadata": {},
   "outputs": [],
   "source": [
    "# Check number of complaints to DSNY in dataset\n",
    "query = (\n",
    "    \"\"\"\n",
    "    SELECT\n",
    "        COUNT(*)\n",
    "    WHERE\n",
    "        agency = \"DSNY\"\n",
    "    \"\"\"\n",
    ")\n",
    "results = get_query(dataset, query)"
   ]
  },
  {
   "cell_type": "code",
   "execution_count": 5,
   "metadata": {},
   "outputs": [
    {
     "name": "stdout",
     "output_type": "stream",
     "text": [
      "[{'COUNT': '3711535'}]\n"
     ]
    }
   ],
   "source": [
    "print(results)"
   ]
  },
  {
   "cell_type": "code",
   "execution_count": 6,
   "metadata": {},
   "outputs": [],
   "source": [
    "# Get unique DSNY complaint_type\n",
    "query = (\n",
    "    \"\"\"\n",
    "    SELECT\n",
    "        DISTINCT complaint_type\n",
    "    WHERE\n",
    "        agency = \"DSNY\"\n",
    "    \"\"\"\n",
    ")\n",
    "results = get_query(dataset, query)"
   ]
  },
  {
   "cell_type": "code",
   "execution_count": 7,
   "metadata": {},
   "outputs": [
    {
     "name": "stdout",
     "output_type": "stream",
     "text": [
      "[{'complaint_type': 'Oil or Gas Spill'}, {'complaint_type': 'Request Changes - A.S.P.'}, {'complaint_type': 'Obstruction'}, {'complaint_type': 'Street Sweeping Complaint'}, {'complaint_type': 'Electronics Waste'}, {'complaint_type': 'Seasonal Collection'}, {'complaint_type': 'Snow or Ice'}, {'complaint_type': 'Recycling Enforcement'}, {'complaint_type': 'Vacant Lot'}, {'complaint_type': 'Sweeping/Inadequate'}, {'complaint_type': 'Residential Disposal Complaint'}, {'complaint_type': 'Literature Request'}, {'complaint_type': 'Missed Collection (All Materials)'}, {'complaint_type': 'Abandoned Bike'}, {'complaint_type': 'Overflowing Litter Baskets'}, {'complaint_type': 'Commercial Disposal Complaint'}, {'complaint_type': 'Request Large Bulky Item Collection'}, {'complaint_type': 'Graffiti'}, {'complaint_type': 'Sweeping/Missed-Inadequate'}, {'complaint_type': 'Lot Condition'}, {'complaint_type': 'Request Xmas Tree Collection'}, {'complaint_type': 'Incorrect Data'}, {'complaint_type': 'Retailer Complaint'}, {'complaint_type': 'Illegal Posting'}, {'complaint_type': 'Storm'}, {'complaint_type': 'Dirty Condition'}, {'complaint_type': 'Dumpster Complaint'}, {'complaint_type': 'Derelict Vehicles'}, {'complaint_type': 'Institution Disposal Complaint'}, {'complaint_type': 'Overflowing Recycling Baskets'}, {'complaint_type': 'Sweeping/Missed'}, {'complaint_type': 'Sanitation Worker or Vehicle Complaint'}, {'complaint_type': 'Litter Basket / Request'}, {'complaint_type': 'Standpipe - Mechanical'}, {'complaint_type': 'Collection Truck Noise'}, {'complaint_type': 'Snow'}, {'complaint_type': 'Litter Basket Request'}, {'complaint_type': 'Change Collection Schedule'}, {'complaint_type': 'Missed Collection'}, {'complaint_type': 'Electronics Waste Appointment'}, {'complaint_type': 'Derelict Bicycle'}, {'complaint_type': 'Dead Animal'}, {'complaint_type': 'DSNY Internal'}, {'complaint_type': 'Employee Behavior'}, {'complaint_type': 'Snow Removal'}, {'complaint_type': 'Foam Ban Enforcement'}, {'complaint_type': 'Dirty Conditions'}, {'complaint_type': 'Litter Basket Complaint'}, {'complaint_type': 'Other Enforcement'}, {'complaint_type': 'Sanitation Condition'}, {'complaint_type': 'Illegal Dumping'}, {'complaint_type': 'Adopt-A-Basket'}, {'complaint_type': 'DSNY Spillage'}, {'complaint_type': 'Transfer Station Complaint'}, {'complaint_type': 'Recycling Basket Complaint'}]\n"
     ]
    }
   ],
   "source": [
    "print(results)"
   ]
  },
  {
   "cell_type": "code",
   "execution_count": 8,
   "metadata": {},
   "outputs": [],
   "source": [
    "# Check descriptor of Dead Animal complaints\n",
    "query = (\n",
    "    \"\"\"\n",
    "    SELECT\n",
    "        DISTINCT descriptor\n",
    "    WHERE\n",
    "        complaint_type = \"Dead Animal\"\n",
    "    \"\"\"\n",
    ")\n",
    "results = get_query(dataset, query)"
   ]
  },
  {
   "cell_type": "code",
   "execution_count": 9,
   "metadata": {},
   "outputs": [
    {
     "name": "stdout",
     "output_type": "stream",
     "text": [
      "[{'descriptor': 'Other'}, {'descriptor': 'Opossum'}, {'descriptor': 'Dog'}, {'descriptor': 'Cat'}, {'descriptor': 'Bird'}, {'descriptor': 'Squirrel'}, {'descriptor': 'Rat or Mouse'}, {'descriptor': 'Raccoon'}, {'descriptor': 'Deer'}]\n"
     ]
    }
   ],
   "source": [
    "print(results)"
   ]
  },
  {
   "cell_type": "code",
   "execution_count": 10,
   "metadata": {},
   "outputs": [],
   "source": [
    "# Check number of Dead Animal complaints by descriptor\n",
    "query = (\n",
    "    \"\"\"\n",
    "    SELECT\n",
    "        descriptor,\n",
    "        COUNT(*) as num_dead\n",
    "    WHERE\n",
    "        complaint_type = \"Dead Animal\"\n",
    "    GROUP BY\n",
    "        descriptor\n",
    "    ORDER BY\n",
    "        num_dead DESC\n",
    "    \"\"\"\n",
    ")\n",
    "results = get_query(dataset, query)"
   ]
  },
  {
   "cell_type": "code",
   "execution_count": 11,
   "metadata": {},
   "outputs": [
    {
     "name": "stdout",
     "output_type": "stream",
     "text": [
      "[{'descriptor': 'Cat', 'num_dead': '5152'}, {'descriptor': 'Raccoon', 'num_dead': '1741'}, {'descriptor': 'Rat or Mouse', 'num_dead': '1458'}, {'descriptor': 'Opossum', 'num_dead': '1048'}, {'descriptor': 'Squirrel', 'num_dead': '827'}, {'descriptor': 'Other', 'num_dead': '737'}, {'descriptor': 'Bird', 'num_dead': '734'}, {'descriptor': 'Dog', 'num_dead': '533'}, {'descriptor': 'Deer', 'num_dead': '295'}]\n"
     ]
    }
   ],
   "source": [
    "print(results)  # Poor cats!"
   ]
  },
  {
   "cell_type": "code",
   "execution_count": 12,
   "metadata": {},
   "outputs": [],
   "source": [
    "# Get DataFrame of Dead Animal complaints\n",
    "query = (\n",
    "    \"\"\"\n",
    "    SELECT\n",
    "        created_date,\n",
    "        descriptor,\n",
    "        incident_zip,\n",
    "        community_board,\n",
    "        latitude,\n",
    "        longitude,\n",
    "        borough\n",
    "    WHERE\n",
    "        complaint_type = \"Dead Animal\"\n",
    "        AND incident_zip IS NOT NULL\n",
    "        AND community_board IS NOT NULL\n",
    "        AND latitude IS NOT NULL\n",
    "        AND longitude IS NOT NULL\n",
    "    LIMIT 20000\n",
    "    \"\"\"\n",
    ")\n",
    "df = get_query(dataset, query, True)    # Return DataFrame instead of list"
   ]
  },
  {
   "cell_type": "code",
   "execution_count": 13,
   "metadata": {},
   "outputs": [
    {
     "name": "stdout",
     "output_type": "stream",
     "text": [
      "<class 'pandas.core.frame.DataFrame'>\n",
      "RangeIndex: 11999 entries, 0 to 11998\n",
      "Data columns (total 7 columns):\n",
      " #   Column           Non-Null Count  Dtype \n",
      "---  ------           --------------  ----- \n",
      " 0   created_date     11999 non-null  object\n",
      " 1   descriptor       11999 non-null  object\n",
      " 2   incident_zip     11999 non-null  object\n",
      " 3   community_board  11999 non-null  object\n",
      " 4   latitude         11999 non-null  object\n",
      " 5   longitude        11999 non-null  object\n",
      " 6   borough          11999 non-null  object\n",
      "dtypes: object(7)\n",
      "memory usage: 656.3+ KB\n"
     ]
    }
   ],
   "source": [
    "df.info()"
   ]
  },
  {
   "cell_type": "code",
   "execution_count": 14,
   "metadata": {},
   "outputs": [
    {
     "data": {
      "text/html": [
       "<div>\n",
       "<style scoped>\n",
       "    .dataframe tbody tr th:only-of-type {\n",
       "        vertical-align: middle;\n",
       "    }\n",
       "\n",
       "    .dataframe tbody tr th {\n",
       "        vertical-align: top;\n",
       "    }\n",
       "\n",
       "    .dataframe thead th {\n",
       "        text-align: right;\n",
       "    }\n",
       "</style>\n",
       "<table border=\"1\" class=\"dataframe\">\n",
       "  <thead>\n",
       "    <tr style=\"text-align: right;\">\n",
       "      <th></th>\n",
       "      <th>created_date</th>\n",
       "      <th>descriptor</th>\n",
       "      <th>incident_zip</th>\n",
       "      <th>community_board</th>\n",
       "      <th>latitude</th>\n",
       "      <th>longitude</th>\n",
       "      <th>borough</th>\n",
       "    </tr>\n",
       "  </thead>\n",
       "  <tbody>\n",
       "    <tr>\n",
       "      <th>0</th>\n",
       "      <td>2023-01-10T23:36:29.000</td>\n",
       "      <td>Raccoon</td>\n",
       "      <td>11420</td>\n",
       "      <td>10 QUEENS</td>\n",
       "      <td>40.666085242007576</td>\n",
       "      <td>-73.82807761990782</td>\n",
       "      <td>QUEENS</td>\n",
       "    </tr>\n",
       "    <tr>\n",
       "      <th>1</th>\n",
       "      <td>2023-01-10T21:48:53.000</td>\n",
       "      <td>Cat</td>\n",
       "      <td>11226</td>\n",
       "      <td>17 BROOKLYN</td>\n",
       "      <td>40.643201390191344</td>\n",
       "      <td>-73.94958507875664</td>\n",
       "      <td>BROOKLYN</td>\n",
       "    </tr>\n",
       "    <tr>\n",
       "      <th>2</th>\n",
       "      <td>2023-01-10T20:09:25.000</td>\n",
       "      <td>Cat</td>\n",
       "      <td>11230</td>\n",
       "      <td>14 BROOKLYN</td>\n",
       "      <td>40.627194129217585</td>\n",
       "      <td>-73.96534738014583</td>\n",
       "      <td>BROOKLYN</td>\n",
       "    </tr>\n",
       "    <tr>\n",
       "      <th>3</th>\n",
       "      <td>2023-01-10T19:32:13.000</td>\n",
       "      <td>Dog</td>\n",
       "      <td>11434</td>\n",
       "      <td>12 QUEENS</td>\n",
       "      <td>40.69262928944387</td>\n",
       "      <td>-73.77512626733017</td>\n",
       "      <td>QUEENS</td>\n",
       "    </tr>\n",
       "    <tr>\n",
       "      <th>4</th>\n",
       "      <td>2023-01-10T19:29:50.000</td>\n",
       "      <td>Dog</td>\n",
       "      <td>11434</td>\n",
       "      <td>12 QUEENS</td>\n",
       "      <td>40.69289349715199</td>\n",
       "      <td>-73.77408682532501</td>\n",
       "      <td>QUEENS</td>\n",
       "    </tr>\n",
       "  </tbody>\n",
       "</table>\n",
       "</div>"
      ],
      "text/plain": [
       "              created_date descriptor incident_zip community_board  \\\n",
       "0  2023-01-10T23:36:29.000    Raccoon        11420       10 QUEENS   \n",
       "1  2023-01-10T21:48:53.000        Cat        11226     17 BROOKLYN   \n",
       "2  2023-01-10T20:09:25.000        Cat        11230     14 BROOKLYN   \n",
       "3  2023-01-10T19:32:13.000        Dog        11434       12 QUEENS   \n",
       "4  2023-01-10T19:29:50.000        Dog        11434       12 QUEENS   \n",
       "\n",
       "             latitude           longitude   borough  \n",
       "0  40.666085242007576  -73.82807761990782    QUEENS  \n",
       "1  40.643201390191344  -73.94958507875664  BROOKLYN  \n",
       "2  40.627194129217585  -73.96534738014583  BROOKLYN  \n",
       "3   40.69262928944387  -73.77512626733017    QUEENS  \n",
       "4   40.69289349715199  -73.77408682532501    QUEENS  "
      ]
     },
     "execution_count": 14,
     "metadata": {},
     "output_type": "execute_result"
    }
   ],
   "source": [
    "df.head()"
   ]
  },
  {
   "cell_type": "code",
   "execution_count": 15,
   "metadata": {},
   "outputs": [
    {
     "data": {
      "text/html": [
       "<div>\n",
       "<style scoped>\n",
       "    .dataframe tbody tr th:only-of-type {\n",
       "        vertical-align: middle;\n",
       "    }\n",
       "\n",
       "    .dataframe tbody tr th {\n",
       "        vertical-align: top;\n",
       "    }\n",
       "\n",
       "    .dataframe thead th {\n",
       "        text-align: right;\n",
       "    }\n",
       "</style>\n",
       "<table border=\"1\" class=\"dataframe\">\n",
       "  <thead>\n",
       "    <tr style=\"text-align: right;\">\n",
       "      <th></th>\n",
       "      <th>created_date</th>\n",
       "      <th>descriptor</th>\n",
       "      <th>incident_zip</th>\n",
       "      <th>community_board</th>\n",
       "      <th>latitude</th>\n",
       "      <th>longitude</th>\n",
       "      <th>borough</th>\n",
       "    </tr>\n",
       "  </thead>\n",
       "  <tbody>\n",
       "    <tr>\n",
       "      <th>11994</th>\n",
       "      <td>2021-09-22T09:02:04.000</td>\n",
       "      <td>Cat</td>\n",
       "      <td>11208</td>\n",
       "      <td>05 BROOKLYN</td>\n",
       "      <td>40.661535923573474</td>\n",
       "      <td>-73.87883537653437</td>\n",
       "      <td>BROOKLYN</td>\n",
       "    </tr>\n",
       "    <tr>\n",
       "      <th>11995</th>\n",
       "      <td>2021-09-22T08:40:12.000</td>\n",
       "      <td>Cat</td>\n",
       "      <td>11220</td>\n",
       "      <td>07 BROOKLYN</td>\n",
       "      <td>40.6360756487013</td>\n",
       "      <td>-74.00895344828234</td>\n",
       "      <td>BROOKLYN</td>\n",
       "    </tr>\n",
       "    <tr>\n",
       "      <th>11996</th>\n",
       "      <td>2021-09-22T08:15:33.000</td>\n",
       "      <td>Cat</td>\n",
       "      <td>10305</td>\n",
       "      <td>02 STATEN ISLAND</td>\n",
       "      <td>40.597840901906025</td>\n",
       "      <td>-74.07555480884422</td>\n",
       "      <td>STATEN ISLAND</td>\n",
       "    </tr>\n",
       "    <tr>\n",
       "      <th>11997</th>\n",
       "      <td>2021-09-22T07:12:33.000</td>\n",
       "      <td>Cat</td>\n",
       "      <td>11221</td>\n",
       "      <td>03 BROOKLYN</td>\n",
       "      <td>40.687808633694715</td>\n",
       "      <td>-73.93666785274185</td>\n",
       "      <td>BROOKLYN</td>\n",
       "    </tr>\n",
       "    <tr>\n",
       "      <th>11998</th>\n",
       "      <td>2021-09-22T02:57:31.000</td>\n",
       "      <td>Cat</td>\n",
       "      <td>11416</td>\n",
       "      <td>09 QUEENS</td>\n",
       "      <td>40.68959050607829</td>\n",
       "      <td>-73.84071697793438</td>\n",
       "      <td>QUEENS</td>\n",
       "    </tr>\n",
       "  </tbody>\n",
       "</table>\n",
       "</div>"
      ],
      "text/plain": [
       "                  created_date descriptor incident_zip   community_board  \\\n",
       "11994  2021-09-22T09:02:04.000        Cat        11208       05 BROOKLYN   \n",
       "11995  2021-09-22T08:40:12.000        Cat        11220       07 BROOKLYN   \n",
       "11996  2021-09-22T08:15:33.000        Cat        10305  02 STATEN ISLAND   \n",
       "11997  2021-09-22T07:12:33.000        Cat        11221       03 BROOKLYN   \n",
       "11998  2021-09-22T02:57:31.000        Cat        11416         09 QUEENS   \n",
       "\n",
       "                 latitude           longitude        borough  \n",
       "11994  40.661535923573474  -73.87883537653437       BROOKLYN  \n",
       "11995    40.6360756487013  -74.00895344828234       BROOKLYN  \n",
       "11996  40.597840901906025  -74.07555480884422  STATEN ISLAND  \n",
       "11997  40.687808633694715  -73.93666785274185       BROOKLYN  \n",
       "11998   40.68959050607829  -73.84071697793438         QUEENS  "
      ]
     },
     "execution_count": 15,
     "metadata": {},
     "output_type": "execute_result"
    }
   ],
   "source": [
    "df.tail()   # Appears Dead Animal complaint_type only used since 2021-09-22"
   ]
  },
  {
   "cell_type": "code",
   "execution_count": null,
   "metadata": {},
   "outputs": [],
   "source": []
  }
 ],
 "metadata": {
  "kernelspec": {
   "display_name": "nyc_open_dash",
   "language": "python",
   "name": "python3"
  },
  "language_info": {
   "codemirror_mode": {
    "name": "ipython",
    "version": 3
   },
   "file_extension": ".py",
   "mimetype": "text/x-python",
   "name": "python",
   "nbconvert_exporter": "python",
   "pygments_lexer": "ipython3",
   "version": "3.10.0"
  },
  "orig_nbformat": 4,
  "vscode": {
   "interpreter": {
    "hash": "0700448d52115be1895a8917a7611632b89ab0e35740a9a0a5b80209addc1591"
   }
  }
 },
 "nbformat": 4,
 "nbformat_minor": 2
}
